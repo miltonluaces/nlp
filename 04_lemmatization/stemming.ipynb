{
 "cells": [
  {
   "cell_type": "code",
   "execution_count": null,
   "metadata": {},
   "outputs": [],
   "source": [
    "from nltk.stem import PorterStemmer\n",
    "from nltk.stem.lancaster import LancasterStemmer\n",
    "from nltk.stem.snowball import SnowballStemmer\n",
    "\n",
    "pst = PorterStemmer()\n",
    "lst = LancasterStemmer()\n",
    "sst = SnowballStemmer(\"english\")\n",
    "\n",
    "st = lst.stem(\"comming\"); print(st)\n",
    "st = pst.stem(\"shoppings\"); print(st)\n",
    "st = sst.stem(\"building\"); print(st)\n"
   ]
  }
 ],
 "metadata": {
  "kernelspec": {
   "display_name": "Python 3",
   "language": "python",
   "name": "python3"
  },
  "language_info": {
   "codemirror_mode": {
    "name": "ipython",
    "version": 3
   },
   "file_extension": ".py",
   "mimetype": "text/x-python",
   "name": "python",
   "nbconvert_exporter": "python",
   "pygments_lexer": "ipython3",
   "version": "3.7.1"
  }
 },
 "nbformat": 4,
 "nbformat_minor": 4
}
