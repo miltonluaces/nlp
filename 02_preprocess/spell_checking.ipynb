{
 "cells": [
  {
   "cell_type": "code",
   "execution_count": null,
   "metadata": {},
   "outputs": [],
   "source": [
    "import re\n",
    "from collections import Counter\n",
    "\n",
    "\n",
    "# All words in lower case\n",
    "def GetWords(text): \n",
    "    return re.findall(r'\\w+', text.lower())\n",
    "\n",
    "# Data\n",
    "words = Counter(GetWords(open('Data/big.txt').read()))\n",
    "\n",
    "# Probability of w\n",
    "def P(w, n=sum(words.values())): \n",
    "    return words[w] / n\n",
    "\n",
    "# Most probable spelling correction for word\n",
    "def correction(w): \n",
    "    return max(candidates(w), key=P)\n",
    "\n",
    "# Generate possible spelling corrections for word\n",
    "def candidates(w): \n",
    "    return (known([w]) or known(edits1(w)) or known(edits2(w)) or [w])\n",
    "\n",
    "# The subset of ws that appear in the dictionary of words\n",
    "def known(w): \n",
    "    return set(w for w in words if w in words)\n",
    "\n",
    "# All edits that are one edit away from w\n",
    "def edits1(w):\n",
    "    letters    = 'abcdefghijklmnopqrstuvwxyz'\n",
    "    splits     = [(word[:i], word[i:])    for i in range(len(word) + 1)]\n",
    "    deletes    = [L + R[1:]               for L, R in splits if R]\n",
    "    transposes = [L + R[1] + R[0] + R[2:] for L, R in splits if len(R)>1]\n",
    "    replaces   = [L + c + R[1:]           for L, R in splits if R for c in letters]\n",
    "    inserts    = [L + c + R               for L, R in splits for c in letters]\n",
    "    return set(deletes + transposes + replaces + inserts)\n",
    "\n",
    "# All edits that are two edits away from w\n",
    "def edits2(word): \n",
    "    return (e2 for e1 in edits1(word) for e2 in edits1(e1))\n"
   ]
  }
 ],
 "metadata": {
  "kernelspec": {
   "display_name": "Python 3",
   "language": "python",
   "name": "python3"
  },
  "language_info": {
   "codemirror_mode": {
    "name": "ipython",
    "version": 3
   },
   "file_extension": ".py",
   "mimetype": "text/x-python",
   "name": "python",
   "nbconvert_exporter": "python",
   "pygments_lexer": "ipython3",
   "version": "3.7.1"
  }
 },
 "nbformat": 4,
 "nbformat_minor": 4
}
