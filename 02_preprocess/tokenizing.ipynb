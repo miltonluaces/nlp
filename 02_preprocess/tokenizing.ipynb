{
 "cells": [
  {
   "cell_type": "code",
   "execution_count": null,
   "metadata": {},
   "outputs": [],
   "source": [
    "from nltk import sent_tokenize\n",
    "from nltk.tokenize.punkt import PunktSentenceTokenizer\n",
    "from nltk.tokenize import word_tokenize, regexp_tokenize, wordpunct_tokenize, blankline_tokenize\n",
    "# All text in one\n",
    "str = \"Want to see how this example works. I'm not sure it will work at all. Do you?\"\n",
    "tokens = sent_tokenize(str)\n",
    "print(tokens)\n",
    "\n",
    "# Simple splitting\n",
    "tokens = str.split()\n",
    "print(tokens)\n",
    "\n",
    "# Word splitting (a bit smarter)\n",
    "tokens = word_tokenize(str)\n",
    "print(tokens)\n",
    "\n",
    "# Regex tokenizing\n",
    "tokens = regexp_tokenize(str, pattern='\\w+')\n",
    "print(tokens)\n",
    "\n",
    "# wordpunct tokenize (punctuation separated)\n",
    "tokens = wordpunct_tokenize(str)\n",
    "print(tokens)"
   ]
  }
 ],
 "metadata": {
  "kernelspec": {
   "display_name": "Python 3",
   "language": "python",
   "name": "python3"
  },
  "language_info": {
   "codemirror_mode": {
    "name": "ipython",
    "version": 3
   },
   "file_extension": ".py",
   "mimetype": "text/x-python",
   "name": "python",
   "nbconvert_exporter": "python",
   "pygments_lexer": "ipython3",
   "version": "3.7.1"
  }
 },
 "nbformat": 4,
 "nbformat_minor": 4
}
