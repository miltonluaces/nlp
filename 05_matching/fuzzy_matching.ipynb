{
 "cells": [
  {
   "cell_type": "code",
   "execution_count": null,
   "metadata": {},
   "outputs": [],
   "source": [
    "from fuzzywuzzy import fuzz\n",
    "from fuzzywuzzy import process\n",
    "from fuzzyset import FuzzySet\n",
    "\n",
    "ratio = fuzz.ratio(\"this is a test\", \"this is a test!\")\n",
    "print(\"Perfect ratio = ', ratio\")\n",
    "\n",
    "# Partial ratio (partially matching)\n",
    "ratio = fuzz.partial_ratio(\"this is a test\", \"this is a test!\")\n",
    "print(\"Partial ratio = ', ratio\")\n",
    "\n",
    "# Token sort ratio \n",
    "ratio1 = fuzz.ratio(\"fuzzy wuzzy was a bear\", \"wuzzy fuzzy was a bear\")\n",
    "ratio2 = fuzz.token_sort_ratio(\"fuzzy wuzzy was a bear\", \"wuzzy fuzzy was a bear\")\n",
    "print(\"Normal ratio = ', ratio1\")\n",
    "print(\"Sort ratio = ', ratio2\")\n",
    "\n",
    "# Token set ratio\n",
    "ratio1 = fuzz.token_sort_ratio(\"fuzzy was a bear\", \"fuzzy fuzzy was a bear\")\n",
    "ratio2 = fuzz.token_set_ratio(\"fuzzy was a bear\", \"fuzzy fuzzy was a bear\")\n",
    "print(\"Normal ratio = ', ratio1\")\n",
    "print(\"Set ratio = ', ratio2\")\n",
    "\n",
    "# Extraction\n",
    "choices = [\"Atlanta Falcons\", \"New York Jets\", \"New York Giants\", \"Dallas Cowboys\"]\n",
    "p1 = process.extract(\"new york jets\", choices, limit=2) \n",
    "print(\"Extract : ', p1\")\n",
    "p2 = process.extractOne(\"cowboys\", choices)\n",
    "print(\"Extract one : ', p2\")\n",
    "\n",
    "# Fuzzyset\n",
    "corpus = \"\"\"It was a murky and stormy night. I was all alone sitting on a crimson chair. I was not completely alone as I had three felines\n",
    "    It was a murky and tempestuous night. I was all alone sitting on a crimson cathedra. I was not completely alone as I had three felines\n",
    "    I was all alone sitting on a crimson cathedra. I was not completely alone as I had three felines. It was a murky and tempestuous night.\n",
    "    It was a dark and stormy night. I was not alone. I was not sitting on a red chair. I had three cats.\"\"\"\n",
    "corpus = [line.lstrip() for line in corpus.split(\"\\n\")]\n",
    "fs = FuzzySet(corpus)\n",
    "query = \"It was a dark and stormy night. I was all alone sitting on a red chair. I was not completely alone as I had three cats.\"\n",
    "fs.get(query)\n",
    "# [(0.873015873015873, 'It was a murky and stormy night. I was all alone sitting on a crimson chair. I was not completely alone as I had three felines')]\n"
   ]
  }
 ],
 "metadata": {
  "kernelspec": {
   "display_name": "Python 3",
   "language": "python",
   "name": "python3"
  },
  "language_info": {
   "codemirror_mode": {
    "name": "ipython",
    "version": 3
   },
   "file_extension": ".py",
   "mimetype": "text/x-python",
   "name": "python",
   "nbconvert_exporter": "python",
   "pygments_lexer": "ipython3",
   "version": "3.7.1"
  }
 },
 "nbformat": 4,
 "nbformat_minor": 4
}
