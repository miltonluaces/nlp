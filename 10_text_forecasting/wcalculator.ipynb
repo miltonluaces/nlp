{
 "cells": [
  {
   "cell_type": "code",
   "execution_count": null,
   "metadata": {},
   "outputs": [],
   "source": [
    "from Utils.Admin.Standard import *\n",
    "import numpy\n",
    "from tensorflow.keras.models import Sequential\n",
    "from tensorflow.keras.layers import Dense\n",
    "from tensorflow.keras.layers import Dropout\n",
    "from tensorflow.keras.layers import LSTM\n",
    "from tensorflow.keras.callbacks import ModelCheckpoint\n",
    "from tensorflow.keras.utils import to_categorical\n",
    "import Parser as pr\n",
    "\n",
    "\n",
    "def CalcWeights(txt):\n",
    "  \n",
    "    convDict, nChars, nAlpha = pr.Parse(txt)\n",
    "    char2int = convDict['char2int']\n",
    "\n",
    "    # prepare the dataset of input to output pairs encoded as integers\n",
    "    seqSize = 100\n",
    "    X, y, dataX = pr.Preprocess(txt, seqSize, nChars, nAlpha, char2int)\n",
    "\n",
    "    # define the LSTM model\n",
    "    model = Sequential()\n",
    "    model.add(LSTM(512, input_shape=(X.shape[1], X.shape[2]),return_sequences=True))\n",
    "    model.add(Dropout(0.2))\n",
    "    model.add(LSTM(512, return_sequences=True))\n",
    "    model.add(Dropout(0.2))\n",
    "    model.add(LSTM(512))\n",
    "    model.add(Dropout(0.2))\n",
    "    model.add(Dense(y.shape[1], activation='softmax'))\n",
    "    model.compile(loss='categorical_crossentropy', optimizer='adam')\n",
    "    \n",
    "    # define the checkpoint\n",
    "    filepath = \"weights-{epoch:02d}-{loss:.4f}.hdf5\"\n",
    "    checkpoint = ModelCheckpoint(filepath, monitor='loss', verbose=1, save_best_only=True, mode='min')\n",
    "    callbacks = [checkpoint]\n",
    "    \n",
    "    # fit the model\n",
    "    model.fit(X, y, epochs=2, batch_size=128, callbacks=callbacks)\n",
    "    print(\"done\")\n",
    "\n",
    "    return model\n",
    "\n"
   ]
  }
 ],
 "metadata": {
  "kernelspec": {
   "display_name": "Python 3",
   "language": "python",
   "name": "python3"
  },
  "language_info": {
   "codemirror_mode": {
    "name": "ipython",
    "version": 3
   },
   "file_extension": ".py",
   "mimetype": "text/x-python",
   "name": "python",
   "nbconvert_exporter": "python",
   "pygments_lexer": "ipython3",
   "version": "3.7.1"
  }
 },
 "nbformat": 4,
 "nbformat_minor": 4
}
