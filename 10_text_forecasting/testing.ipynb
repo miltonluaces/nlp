{
 "cells": [
  {
   "cell_type": "code",
   "execution_count": null,
   "metadata": {},
   "outputs": [],
   "source": [
    "from Utils.Admin.Standard import *\n",
    "from Parser import Parse\n",
    "import Parser as pr\n",
    "import WCalculator as wc\n",
    "import TxtGenerator as tg\n",
    "\n",
    "\n",
    "# Load text and lowercase it\n",
    "txtFile = txtPath + 'wonderlandSample.txt'\n",
    "txt = open(txtFile).read()\n",
    "txt = txt.lower()\n",
    "\n",
    "# Parser\n",
    "convDict, nChars, nAlpha = pr.Parse(txt)\n",
    "char2int = convDict['char2int']\n",
    "print(\"Total Characters: \", nChars)\n",
    "print(\"Total Alphabet: \", nAlpha)\n",
    "print(\"Char To Int Dictionary: \", char2int)\n",
    "\n",
    "# Preprocess\n",
    "seqSize = 400\n",
    "X, y, dataX = pr.Preprocess(txt, seqSize, nChars, nAlpha, char2int)\n",
    "print(\"X is \", X)\n",
    "print( \"y is \", y)\n",
    "\n",
    "# Weight calculation\n",
    "weightFile = modelPath + 'lstmWeights.hdf5'\n",
    "open(weightFile, encoding=\"utf8\", errors='ignore').read()\n",
    "wc.CalcWeights(txt)\n",
    "\n",
    "# Text generation\n",
    "#tg.Generate(txt, weights=None)\n",
    "\n"
   ]
  }
 ],
 "metadata": {
  "kernelspec": {
   "display_name": "Python 3",
   "language": "python",
   "name": "python3"
  },
  "language_info": {
   "codemirror_mode": {
    "name": "ipython",
    "version": 3
   },
   "file_extension": ".py",
   "mimetype": "text/x-python",
   "name": "python",
   "nbconvert_exporter": "python",
   "pygments_lexer": "ipython3",
   "version": "3.7.1"
  }
 },
 "nbformat": 4,
 "nbformat_minor": 4
}
