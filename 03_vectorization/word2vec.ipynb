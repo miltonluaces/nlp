{
 "cells": [
  {
   "cell_type": "code",
   "execution_count": null,
   "metadata": {},
   "outputs": [],
   "source": [
    "# WORD EMBEDDINGS WITH WORD2VEC\n",
    "\n",
    "# Imports\n",
    "\n",
    "from nltk import sent_tokenize, word_tokenize \n",
    "import gensim \n",
    "from gensim.models import Word2Vec \n",
    "import warnings \n",
    "warnings.filterwarnings(action = 'ignore') \n",
    "\n",
    "# Load data\n",
    "sample = open(\"D:\\\\Data\\\\text\\\\wonderland.txt\", \"r\") \n",
    "s = sample.read() \n",
    "f = s.replace(\"\\n\", \" \") \n",
    "\n",
    "# Tokenize\n",
    " \n",
    "data = [] \n",
    "for i in sent_tokenize(f): \n",
    "\tsent = [] \n",
    "\tfor j in word_tokenize(i): \n",
    "\t\tsent.append(j.lower()) \n",
    "\tdata.append(sent) \n",
    "\n",
    "# Create CBOW model \n",
    "model1 = gensim.models.Word2Vec(data, min_count=1, size=100, window=5) \n",
    "\n",
    "# Results\n",
    "print(\"CBOW results\")\n",
    "print(\"Similarity(alice, wonderland) : \",  model1.similarity('alice', 'wonderland')) \n",
    "print(\"Similarity(alice, machines): \", model1.similarity('alice', 'machines')) \n",
    "\n",
    "# Create Skip Gram model \n",
    "model2 = gensim.models.Word2Vec(data, min_count=1, size=100, window=5, sg=1) \n",
    "\n",
    "# Print results \n",
    "print(\"Similarity(alice, wonderland) : \",  model2.similarity('alice', 'wonderland')) \n",
    "print(\"Similarity(alice, machines): \", model2.similarity('alice', 'machines')) \n"
   ]
  }
 ],
 "metadata": {
  "kernelspec": {
   "display_name": "Python 3",
   "language": "python",
   "name": "python3"
  },
  "language_info": {
   "codemirror_mode": {
    "name": "ipython",
    "version": 3
   },
   "file_extension": ".py",
   "mimetype": "text/x-python",
   "name": "python",
   "nbconvert_exporter": "python",
   "pygments_lexer": "ipython3",
   "version": "3.7.1"
  }
 },
 "nbformat": 4,
 "nbformat_minor": 4
}
