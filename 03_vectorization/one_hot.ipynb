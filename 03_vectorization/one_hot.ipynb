{
 "cells": [
  {
   "cell_type": "markdown",
   "metadata": {},
   "source": [
    "# One hot encoding"
   ]
  },
  {
   "cell_type": "markdown",
   "metadata": {},
   "source": [
    "### In words"
   ]
  },
  {
   "cell_type": "code",
   "execution_count": null,
   "metadata": {},
   "outputs": [],
   "source": [
    "from numpy import array\n",
    "from numpy import argmax\n",
    "from sklearn.preprocessing import LabelEncoder\n",
    "from sklearn.preprocessing import OneHotEncoder\n",
    "\n",
    "# define example\n",
    "data = ['cold', 'cold', 'warm', 'cold', 'hot', 'hot', 'warm', 'cold', 'warm', 'hot']\n",
    "values = array(data)\n",
    "print('\\nWords')\n",
    "print(values)\n",
    "\n",
    "# integer encode\n",
    "print('\\nIntegers')\n",
    "label_encoder = LabelEncoder()\n",
    "integer_encoded = label_encoder.fit_transform(values)\n",
    "print(integer_encoded)\n",
    "\n",
    "# binary encode\n",
    "onehot_encoder = OneHotEncoder(sparse=False, categories='auto')\n",
    "integer_encoded = integer_encoded.reshape(len(integer_encoded), 1)\n",
    "onehot_encoded = onehot_encoder.fit_transform(integer_encoded)\n",
    "print('\\nOne hot vectors')\n",
    "print(onehot_encoded)\n",
    "\n",
    "# invert first example\n",
    "inverted = label_encoder.inverse_transform([argmax(onehot_encoded[0, :])])\n",
    "print('\\nInverted')\n",
    "print(inverted)"
   ]
  },
  {
   "cell_type": "markdown",
   "metadata": {},
   "source": [
    "### In sentences"
   ]
  },
  {
   "cell_type": "code",
   "execution_count": null,
   "metadata": {},
   "outputs": [],
   "source": [
    "import numpy as np\n",
    "from sklearn.preprocessing import LabelEncoder\n",
    "from sklearn.preprocessing import OneHotEncoder\n",
    "\n",
    "# define example\n",
    "sent1 = ['cold', 'cold', 'warm', 'cold']\n",
    "sent2 = ['hot', 'hot', 'warm', 'cold', 'warm', 'hot']\n",
    "sent3 = ['cold', 'warm','warm', 'hot']\n",
    "sent4 = ['warm', 'hot']\n",
    "doc = [sent1, sent2, sent3, sent4]\n",
    "print('\\nSentences')\n",
    "print(doc)\n",
    "words = list(np.concatenate(doc))\n",
    "print('\\nWord vector')\n",
    "print(words)\n",
    " \n",
    "# integer encode\n",
    "print('\\nInt vector')\n",
    "le = LabelEncoder()\n",
    "int_vec = le.fit_transform(words)\n",
    "print(int_vec)\n",
    "\n",
    "# binary encode\n",
    "ohe = OneHotEncoder(sparse=False, categories='auto')\n",
    "int_vec = int_vec.reshape(len(int_vec), 1)\n",
    "oh_vec = ohe.fit_transform(int_vec)\n",
    "print('\\nOne hot vector')\n",
    "print(oh_vec)\n",
    "\n",
    "# invert first example\n",
    "#inverted = label_encoder.inverse_transform([argmax(onehot_encoded[0, :])])\n",
    "#print('\\nInverted')\n",
    "#print(inverted)\n"
   ]
  },
  {
   "cell_type": "markdown",
   "metadata": {},
   "source": [
    "### Many hot sentences"
   ]
  },
  {
   "cell_type": "code",
   "execution_count": null,
   "metadata": {},
   "outputs": [],
   "source": [
    "import numpy as np\n",
    "from sklearn.preprocessing import LabelEncoder\n",
    "from sklearn.preprocessing import OneHotEncoder\n",
    "\n",
    "# define example\n",
    "sent1 = ['cold', 'cold', 'warm', 'cold']\n",
    "sent2 = ['hot', 'hot', 'warm', 'cold', 'warm', 'hot']\n",
    "sent3 = ['cold', 'warm','warm', 'hot']\n",
    "sent4 = ['warm', 'hot']\n",
    "doc = [sent1, sent2, sent3, sent4]\n",
    "print('\\nSentences')\n",
    "print(doc)\n",
    "words = list(np.concatenate(doc))\n",
    "print('\\nWord vector')\n",
    "print(words)\n",
    "words = list(set(words))\n",
    "n = len(words)\n",
    "dictOfWords = { words[i] : i for i in range(0, len(words) ) }\n",
    "print(dictOfWords)\n",
    "\n",
    "for sent in doc:\n",
    "\n",
    "\n"
   ]
  }
 ],
 "metadata": {
  "kernelspec": {
   "display_name": "Python 3",
   "language": "python",
   "name": "python3"
  },
  "language_info": {
   "codemirror_mode": {
    "name": "ipython",
    "version": 3
   },
   "file_extension": ".py",
   "mimetype": "text/x-python",
   "name": "python",
   "nbconvert_exporter": "python",
   "pygments_lexer": "ipython3",
   "version": "3.7.1"
  }
 },
 "nbformat": 4,
 "nbformat_minor": 4
}
